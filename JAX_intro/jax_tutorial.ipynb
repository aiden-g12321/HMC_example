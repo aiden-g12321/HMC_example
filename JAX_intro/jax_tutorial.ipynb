{
 "cells": [
  {
   "cell_type": "markdown",
   "id": "d3f0961d",
   "metadata": {},
   "source": [
    "# JAX tutorial\n",
    "\n",
    "- What is JAX?\n",
    "\n",
    "- JAX basics\n",
    "\n",
    "- Things no one tells you\n",
    "\n",
    "- Sampling using NumPyro HMC and JAX"
   ]
  },
  {
   "cell_type": "markdown",
   "id": "3fa79048",
   "metadata": {},
   "source": [
    "## What is JAX?\n",
    "\n",
    "JAX is a library for array-oriented numerical computation.\n",
    "\n",
    "- NumPy-like interface which runs on CPU, GPU, or TPU.\n",
    "- Features Just-In-Time (JIT) compilation\n",
    "- Automatic differentiation of functions.\n",
    "- Automatic vectorization."
   ]
  },
  {
   "cell_type": "markdown",
   "id": "5f563efe",
   "metadata": {},
   "source": [
    "## JAX basics"
   ]
  },
  {
   "cell_type": "code",
   "execution_count": null,
   "id": "51420997",
   "metadata": {},
   "outputs": [],
   "source": [
    "# Run this if you've never used JAX or NumPyro.\n",
    "\n",
    "# !pip install numpyro\n",
    "# !pip install jax"
   ]
  },
  {
   "cell_type": "code",
   "execution_count": null,
   "id": "af83c064",
   "metadata": {},
   "outputs": [],
   "source": [
    "import jax\n",
    "import jax.numpy as jnp\n",
    "import jax.scipy as js\n",
    "import jax.random as jr\n",
    "\n",
    "# for comparison\n",
    "import numpy as np\n",
    "import scipy\n",
    "\n",
    "# for sampling later\n",
    "import numpyro\n",
    "import numpyro.distributions as dist\n",
    "numpyro.set_host_device_count(10)\n",
    "\n",
    "# plotting packages\n",
    "import corner\n",
    "import matplotlib.pyplot as plt\n",
    "plt.style.use('dark_background')"
   ]
  },
  {
   "cell_type": "markdown",
   "id": "f090a074",
   "metadata": {},
   "source": [
    "### Single-precision"
   ]
  },
  {
   "cell_type": "code",
   "execution_count": null,
   "id": "360bf8e4",
   "metadata": {},
   "outputs": [],
   "source": [
    "# by default JAX uses single-precision (float32)\n",
    "# jax.config.update('jax_enable_x64', True)\n",
    "print(np.cos(np.pi / 3))\n",
    "print(jnp.cos(jnp.pi / 3))"
   ]
  },
  {
   "cell_type": "markdown",
   "id": "23b1992b",
   "metadata": {},
   "source": [
    "### NumPy-like arrays"
   ]
  },
  {
   "cell_type": "code",
   "execution_count": null,
   "id": "19c5f03b",
   "metadata": {},
   "outputs": [],
   "source": [
    "array1 = jnp.array([1., -2.5, 0.6])\n",
    "array2 = jnp.array([5.3, 5.002, -11.5])\n",
    "\n",
    "print(array1 + array2)\n",
    "print()\n",
    "\n",
    "print(jnp.inner(array1, array2))\n",
    "print()\n",
    "\n",
    "a = jnp.zeros((3, 3))       # 2D array of zeros\n",
    "b = jnp.ones((3, 3, 5))     # 3D array of ones\n",
    "c = jnp.arange(0, 10, 2)    # [0, 2, 4, 6, 8]\n",
    "d = jnp.linspace(0, 1, 5)   # [0., 0.25, 0.5, 0.75, 1.]\n",
    "e = jnp.eye(4)              # 4x4 identity matrix"
   ]
  },
  {
   "cell_type": "code",
   "execution_count": null,
   "id": "7981db34",
   "metadata": {},
   "outputs": [],
   "source": [
    "# index slicing and broadcasting\n",
    "print(b[3, 1])\n",
    "print(c[1:3])\n",
    "\n",
    "f = (a[..., None] * b)[..., None] / jnp.outer(c, d)\n",
    "print(f.shape)"
   ]
  },
  {
   "cell_type": "markdown",
   "id": "b12a07f4",
   "metadata": {},
   "source": [
    "## Bayesian hierarchical linear regression"
   ]
  },
  {
   "cell_type": "markdown",
   "id": "9cbba8f3",
   "metadata": {},
   "source": [
    "We perform linear regression on a number of groups, each with the same number of data points and noise distribution. The coefficients of the linear regression are modeled hierarchically with a normal distribution.\n",
    "\n",
    "\\begin{equation}\n",
    "    p(\\vec{m}, \\vec{y}_0, \\mu_m, \\sigma_m, \\mu_{y0}, \\sigma_{y0} | \\vec{d}) \\propto p(\\vec{d} | \\vec{m}, \\vec{y}_0) \\cdot p(\\vec{m} | \\mu_m, \\sigma_m) \\cdot p(\\vec{y}_0 | \\mu_{y0}, \\sigma_{y0}) \\cdot p(\\mu_m, \\sigma_m, \\mu_{y0}, \\sigma_{y0})\n",
    "\\end{equation}"
   ]
  },
  {
   "cell_type": "code",
   "execution_count": null,
   "id": "d7bfe649",
   "metadata": {},
   "outputs": [],
   "source": [
    "# simulate data\n",
    "\n",
    "# data simulation random key\n",
    "simulation_key = jr.key(170817)\n",
    "slope_simulation_key, intercept_key, noise_key = jr.split(simulation_key, 3)\n",
    "\n",
    "# number of groups (how many linear regressions)\n",
    "num_groups = 1000\n",
    "\n",
    "# how many samples per linear regression\n",
    "Nt = 10\n",
    "times = jnp.linspace(0., 1., Nt)\n",
    "\n",
    "# hyper-parameters injected\n",
    "slopes_mean = 3.6\n",
    "slopes_stdev = 3.77\n",
    "y_inter_mean = -1.1\n",
    "y_inter_stdev = 4.9\n",
    "hypers_inj = jnp.array([slopes_mean, slopes_stdev, y_inter_mean, y_inter_stdev])\n",
    "num_hypers = hypers_inj.shape[0]\n",
    "\n",
    "# linear regression parameters injected\n",
    "slopes_inj = slopes_mean + jr.normal(key=slope_simulation_key, shape=(num_groups,)) * slopes_stdev\n",
    "y_intercepts_inj = y_inter_mean + jr.normal(key=intercept_key, shape=(num_groups,)) * y_inter_stdev\n",
    "\n",
    "# all injected parameters\n",
    "x_inj = jnp.concatenate((hypers_inj, slopes_inj, y_intercepts_inj))\n",
    "\n",
    "# noise distribution\n",
    "noise_stdev = 7.2\n",
    "\n",
    "# lines injected into data\n",
    "lines_inj = slopes_inj[:, None] * times[None, :] + y_intercepts_inj[:, None]\n",
    "\n",
    "# add noise to data\n",
    "noise = jr.normal(key=noise_key, shape=(num_groups, Nt)) * noise_stdev\n",
    "data = lines_inj + noise\n",
    "\n",
    "# later on we will demonstrate automatic vectorization, so let's make many slope and intercept inputs\n",
    "num_batch = 1000\n",
    "slopes_stacked = slopes_mean + jr.normal(key=slope_simulation_key, shape=(num_batch, num_groups)) * slopes_stdev\n",
    "y_intercepts_stacked = y_inter_mean + jr.normal(key=intercept_key, shape=(num_batch, num_groups)) * y_inter_stdev"
   ]
  },
  {
   "cell_type": "markdown",
   "id": "ce61bcfd",
   "metadata": {},
   "source": [
    "## Just-In-Time (JIT) compilation"
   ]
  },
  {
   "cell_type": "code",
   "execution_count": null,
   "id": "d7644411",
   "metadata": {},
   "outputs": [],
   "source": [
    "# likelihood function in NumPy\n",
    "# need to convert objects to NumPy arrays\n",
    "# (they are defined as JAX arrays)\n",
    "data_np = np.array(data)\n",
    "times_np = np.array(times)\n",
    "slopes_inj_np = np.array(slopes_inj)\n",
    "y_intercepts_inj_np = np.array(y_intercepts_inj)\n",
    "\n",
    "def numpy_lnlike(slopes, y_intercepts, data):\n",
    "    # residuals\n",
    "    lines = slopes[:, None] * times_np[None, :] + y_intercepts[:, None]\n",
    "    residuals = data - lines\n",
    "    return -0.5 * np.sum(residuals**2.) / noise_stdev**2.\n",
    "\n",
    "# likelihood function in JAX\n",
    "def jax_lnlike(slopes, y_intercepts, data):\n",
    "    # residuals\n",
    "    lines = slopes[:, None] * times[None, :] + y_intercepts[:, None]\n",
    "    residuals = data - lines\n",
    "    return -0.5 * jnp.sum(residuals**2.) / noise_stdev**2."
   ]
  },
  {
   "cell_type": "code",
   "execution_count": null,
   "id": "0a5c0751",
   "metadata": {},
   "outputs": [],
   "source": [
    "%timeit numpy_lnlike(slopes_inj_np, y_intercepts_inj_np, data_np)"
   ]
  },
  {
   "cell_type": "code",
   "execution_count": null,
   "id": "9def3b0a",
   "metadata": {},
   "outputs": [],
   "source": [
    "%timeit jax_lnlike(slopes_inj, y_intercepts_inj, data)"
   ]
  },
  {
   "cell_type": "code",
   "execution_count": null,
   "id": "01fedd0a",
   "metadata": {},
   "outputs": [],
   "source": [
    "# JIT JAX likelihood\n",
    "fast_lnlike = jax.jit(jax_lnlike)\n",
    "\n",
    "# test\n",
    "print(fast_lnlike(slopes_inj, y_intercepts_inj, data))"
   ]
  },
  {
   "cell_type": "code",
   "execution_count": null,
   "id": "1e6e9ae4",
   "metadata": {},
   "outputs": [],
   "source": [
    "%timeit fast_lnlike(slopes_inj, y_intercepts_inj, data)"
   ]
  },
  {
   "cell_type": "markdown",
   "id": "a4fc5f19",
   "metadata": {},
   "source": [
    "## Automatic vectorization"
   ]
  },
  {
   "cell_type": "code",
   "execution_count": null,
   "id": "d7050076",
   "metadata": {},
   "outputs": [],
   "source": [
    "# suppose we want to evaluate the likelihood for many inputs\n",
    "slopes_stacked_np = np.array(slopes_stacked)\n",
    "y_intercepts_stacked_np = np.array(y_intercepts_stacked)"
   ]
  },
  {
   "cell_type": "code",
   "execution_count": null,
   "id": "6f83ab47",
   "metadata": {},
   "outputs": [],
   "source": [
    "%timeit [numpy_lnlike(slopes, y_intercepts, data) for slopes, y_intercepts in zip(slopes_stacked_np, y_intercepts_stacked_np)]"
   ]
  },
  {
   "cell_type": "code",
   "execution_count": null,
   "id": "268d6f5e",
   "metadata": {},
   "outputs": [],
   "source": [
    "# we can automatically vectorize JAX functions\n",
    "vectorized_lnlike = jax.jit(jax.vmap(fast_lnlike, in_axes=(0, 0, None)))\n",
    "\n",
    "# test\n",
    "print(vectorized_lnlike(slopes_stacked, y_intercepts_stacked, data))"
   ]
  },
  {
   "cell_type": "code",
   "execution_count": null,
   "id": "0327be0f",
   "metadata": {},
   "outputs": [],
   "source": [
    "%timeit vectorized_lnlike(slopes_stacked, y_intercepts_stacked, data)"
   ]
  },
  {
   "cell_type": "markdown",
   "id": "f9cc7599",
   "metadata": {},
   "source": [
    "## Automatic differentiation\n",
    "\n",
    "Suppose want the partial derivatives of\n",
    "\n",
    "\\begin{equation*}\n",
    "    f(x_1, x_2) = x_1 \\,\\text{exp}\\bigg[-\\frac{1}{2}(x_1^2 + x_2^2)\\bigg]\\,.\n",
    "\\end{equation*}"
   ]
  },
  {
   "cell_type": "markdown",
   "id": "9983a507",
   "metadata": {},
   "source": [
    "<img src=\"computational_graph.png\" alt=\"Negative\" style=\"filter: invert(1);\">"
   ]
  },
  {
   "cell_type": "markdown",
   "id": "159e399e",
   "metadata": {},
   "source": [
    "<img src=\"computational_graph_forward.png\" alt=\"Negative\" style=\"filter: invert(1);\">"
   ]
  },
  {
   "cell_type": "code",
   "execution_count": null,
   "id": "4d334a24",
   "metadata": {},
   "outputs": [],
   "source": [
    "# we can take derivatives of JAX functions\n",
    "grad_lnlike = jax.jit(jax.grad(fast_lnlike, argnums=(0, 1)))\n",
    "\n",
    "# test\n",
    "print(grad_lnlike(slopes_inj, y_intercepts_inj, data))"
   ]
  },
  {
   "cell_type": "code",
   "execution_count": null,
   "id": "1f35f9c7",
   "metadata": {},
   "outputs": [],
   "source": [
    "%timeit grad_lnlike(slopes_inj, y_intercepts_inj, data)"
   ]
  },
  {
   "cell_type": "code",
   "execution_count": null,
   "id": "c8ca98bd",
   "metadata": {},
   "outputs": [],
   "source": [
    "# Fisher matrices!\n",
    "neg_Fisher = jax.jit(jax.hessian(fast_lnlike, argnums=(0, 1)))\n",
    "print(neg_Fisher(slopes_inj, y_intercepts_inj, data))"
   ]
  },
  {
   "cell_type": "code",
   "execution_count": null,
   "id": "19cefc3e",
   "metadata": {},
   "outputs": [],
   "source": [
    "%timeit neg_Fisher(slopes_inj, y_intercepts_inj, data)"
   ]
  },
  {
   "cell_type": "code",
   "execution_count": null,
   "id": "dc3a5b19",
   "metadata": {},
   "outputs": [],
   "source": [
    "# try yourself\n",
    "# jax.hessian\n",
    "# jax.jacobian\n",
    "# jax.jit(jax.vmap(jax.hessian(...)))"
   ]
  },
  {
   "cell_type": "markdown",
   "id": "6443859d",
   "metadata": {},
   "source": [
    "## JAX difficulties\n",
    "\n",
    "What no one tells you..."
   ]
  },
  {
   "cell_type": "code",
   "execution_count": null,
   "id": "2e9eee87",
   "metadata": {},
   "outputs": [],
   "source": [
    "# return True if even, False if odd\n",
    "def is_even(integer):\n",
    "    if integer % 2 == 0:  # even\n",
    "        return True\n",
    "    else:\n",
    "        return False\n",
    "    \n",
    "fast_is_even = jax.jit(is_even)\n",
    "\n",
    "# print(is_even(6))\n",
    "# print(fast_is_even(6))"
   ]
  },
  {
   "cell_type": "code",
   "execution_count": null,
   "id": "ac8c1e42",
   "metadata": {},
   "outputs": [],
   "source": [
    "# conditionals work-around\n",
    "def spit_True():\n",
    "    return True\n",
    "\n",
    "def spit_False():\n",
    "    return False\n",
    "\n",
    "def is_even_redo(integer):\n",
    "    even = (integer % 2 == 0)\n",
    "    return jax.lax.cond(even, spit_True, spit_False)\n",
    "\n",
    "fast_is_even_redo = jax.jit(is_even_redo)\n",
    "# print(is_even_redo(7))\n",
    "# print(fast_is_even_redo(6))"
   ]
  },
  {
   "cell_type": "code",
   "execution_count": null,
   "id": "4c89837e",
   "metadata": {},
   "outputs": [],
   "source": [
    "# %timeit is_even(6)"
   ]
  },
  {
   "cell_type": "code",
   "execution_count": null,
   "id": "068cd2f4",
   "metadata": {},
   "outputs": [],
   "source": [
    "# %timeit fast_is_even_redo(6)"
   ]
  },
  {
   "cell_type": "code",
   "execution_count": null,
   "id": "01391f6e",
   "metadata": {},
   "outputs": [],
   "source": [
    "# changing elements of an array\n",
    "arr = np.array([0, 1, 2])\n",
    "arr[2] = 0\n",
    "print(arr)\n",
    "\n",
    "# jax_arr = jnp.array([0, 1, 2])\n",
    "# jax_arr[2] = 0\n",
    "# # jax_arr = jax_arr.at[2].set(0)\n",
    "# print(jax_arr)"
   ]
  },
  {
   "cell_type": "code",
   "execution_count": null,
   "id": "dc4d5348",
   "metadata": {},
   "outputs": [],
   "source": [
    "# %timeit arr[2] = 0"
   ]
  },
  {
   "cell_type": "code",
   "execution_count": null,
   "id": "ae742fb7",
   "metadata": {},
   "outputs": [],
   "source": [
    "# %timeit jax_arr.at[2].set(0)"
   ]
  },
  {
   "cell_type": "code",
   "execution_count": null,
   "id": "ec16ab90",
   "metadata": {},
   "outputs": [],
   "source": [
    "# %timeit np.array([5, 5, 5])"
   ]
  },
  {
   "cell_type": "code",
   "execution_count": null,
   "id": "52079001",
   "metadata": {},
   "outputs": [],
   "source": [
    "# %timeit jnp.array([5, 5, 5])"
   ]
  },
  {
   "cell_type": "markdown",
   "id": "f6ad4e26",
   "metadata": {},
   "source": [
    "## Best practices\n",
    "\n",
    "- JIT compile functions.\n",
    "\n",
    "- Compose auto-diff, vectorization, and JIT wrappers.\n",
    "\n",
    "- Avoid if/else statements when possible.\n",
    "\n",
    "- Initialize all constant jax.arrays at first. Avoid creating/updating jax.arrays in code which is run many times over.\n",
    "\n",
    "- Don't mix JAX and NumPy within a function.\n",
    "\n",
    "- It’s easier to start a project in JAX from the beginning than to add it later."
   ]
  },
  {
   "cell_type": "markdown",
   "id": "43da26a4",
   "metadata": {},
   "source": [
    "## Sampling with NumPyro"
   ]
  },
  {
   "cell_type": "code",
   "execution_count": null,
   "id": "d0dec968",
   "metadata": {},
   "outputs": [],
   "source": [
    "def sampling_model(data):\n",
    "\n",
    "    # hyper-prior\n",
    "    slopes_mean = numpyro.sample('slopes_mean', dist.Uniform(-10., 10.))\n",
    "    slopes_stdev = numpyro.sample('slopes_stdev', dist.Uniform(0., 10.))\n",
    "    intercepts_mean = numpyro.sample('intercepts_mean', dist.Uniform(-10., 10.))\n",
    "    intercepts_stdev = numpyro.sample('intercepts_stdev', dist.Uniform(0., 10.))\n",
    "\n",
    "    # prior\n",
    "    slopes = numpyro.sample('slopes', dist.Normal(slopes_mean, slopes_stdev).expand((num_groups,)))\n",
    "    intercepts = numpyro.sample('intercepts', dist.Normal(intercepts_mean, intercepts_stdev).expand((num_groups,)))\n",
    "\n",
    "    # likelihood\n",
    "    numpyro.factor('lnlike', fast_lnlike(slopes, intercepts, data))\n",
    "\n",
    "\n",
    "nuts_kernel = numpyro.infer.NUTS(model=sampling_model)\n",
    "mcmc = numpyro.infer.MCMC(sampler=nuts_kernel,\n",
    "                          num_warmup=int(5e3),\n",
    "                          num_samples=int(1e4),\n",
    "                          num_chains=1,\n",
    "                          )\n",
    "mcmc.run(jr.key(150914), data)\n",
    "samples_dict = mcmc.get_samples()"
   ]
  },
  {
   "cell_type": "code",
   "execution_count": null,
   "id": "c139d9c0",
   "metadata": {},
   "outputs": [],
   "source": [
    "# organize samples\n",
    "hyper_samples = np.array([samples_dict['slopes_mean'],\n",
    "                          samples_dict['slopes_stdev'],\n",
    "                          samples_dict['intercepts_mean'],\n",
    "                          samples_dict['intercepts_stdev']]).T\n",
    "samples = np.concatenate((hyper_samples,\n",
    "                          samples_dict['slopes'],\n",
    "                          samples_dict['intercepts']), axis=1)\n",
    "hyper_labels = np.array([r'$\\mu_m$', r'$\\sigma_m$', r'$\\mu_{y_0}$', r'$\\sigma_{y_0}$'])\n",
    "slope_labels = np.array([rf'$m_{{{i}}}$' for i in range(1, num_groups + 1)])\n",
    "intercept_labels = np.array([rf'$y0_{{{i}}}$' for i in range(1, num_groups + 1)])\n",
    "labels = np.concatenate((hyper_labels, slope_labels, intercept_labels))"
   ]
  },
  {
   "cell_type": "code",
   "execution_count": null,
   "id": "10b43733",
   "metadata": {},
   "outputs": [],
   "source": [
    "# trace plot\n",
    "for i in range(3):\n",
    "    plt.plot(samples[:, i], color=f'C{i}', alpha=0.5)\n",
    "    plt.axhline(x_inj[i], color=f'C{i}', alpha=0.8, label=labels[i])\n",
    "plt.xlabel('HMC iteration')\n",
    "plt.ylabel('parameter values')\n",
    "plt.show()"
   ]
  },
  {
   "cell_type": "code",
   "execution_count": null,
   "id": "02b767d4",
   "metadata": {},
   "outputs": [],
   "source": [
    "# corner plot\n",
    "ndxs = np.r_[:6, num_groups + 4 : num_groups + 6]\n",
    "fig = corner.corner(samples[:, ndxs],\n",
    "                    bins=40,\n",
    "                    labels=labels[ndxs],\n",
    "                    truths=x_inj[ndxs])"
   ]
  },
  {
   "cell_type": "code",
   "execution_count": null,
   "id": "b997c2c4",
   "metadata": {},
   "outputs": [],
   "source": [
    "from emcee.autocorr import integrated_time\n",
    "\n",
    "auto_corr_per_parameter = integrated_time(samples, has_walkers=False)\n",
    "print(f'maximum auto-correlation = {np.max(auto_corr_per_parameter)}')\n",
    "plt.figure(figsize=(10, 4))\n",
    "plt.bar(np.arange(samples.shape[1]), auto_corr_per_parameter)\n",
    "plt.xlabel('parameter indices')\n",
    "plt.ylabel('auto-correlation')\n",
    "plt.show()"
   ]
  },
  {
   "cell_type": "code",
   "execution_count": null,
   "id": "43f372ab",
   "metadata": {},
   "outputs": [],
   "source": [
    "r_circ = 1.\n",
    "def circular_lnlike(x, y):\n",
    "    r = jnp.sqrt(x**2 + y**2)\n",
    "    return -10. * (r - r_circ)**2\n",
    "\n",
    "fast_circular_lnlike = jax.jit(circular_lnlike)"
   ]
  },
  {
   "cell_type": "code",
   "execution_count": null,
   "id": "10301e31",
   "metadata": {},
   "outputs": [],
   "source": [
    "def circular_model():    \n",
    "    x = numpyro.sample('x', dist.Uniform(-10., 10.))\n",
    "    y = numpyro.sample('y', dist.Uniform(-10., 10.))\n",
    "    numpyro.factor('lnlike', fast_circular_lnlike(x, y))\n",
    "\n",
    "nuts_kernel = numpyro.infer.NUTS(model=circular_model)\n",
    "mcmc = numpyro.infer.MCMC(sampler=nuts_kernel,\n",
    "                          num_warmup=int(5e3),\n",
    "                          num_samples=int(1e5),\n",
    "                          num_chains=10,\n",
    "                          )\n",
    "mcmc.run(jr.key(1))\n",
    "samples_dict = mcmc.get_samples()"
   ]
  },
  {
   "cell_type": "code",
   "execution_count": null,
   "id": "9e56a91f",
   "metadata": {},
   "outputs": [],
   "source": [
    "xy_samples = np.array([samples_dict['x'], samples_dict['y']]).T\n",
    "fig = corner.corner(xy_samples,\n",
    "                    labels=['x', 'y'],\n",
    "                    bins=40)"
   ]
  },
  {
   "cell_type": "code",
   "execution_count": null,
   "id": "d2f4eee7",
   "metadata": {},
   "outputs": [],
   "source": [
    "# compute Euclidian distance between all samples\n",
    "Euc_dist = np.sqrt(np.sum((xy_samples[1:] - xy_samples[:-1])**2, axis=1))\n",
    "plt.hist(Euc_dist, density=True, color='C0', alpha=0.8, bins=60)\n",
    "plt.xlabel('Euclidean distance between successive samples')\n",
    "plt.ylabel('density')\n",
    "plt.show()"
   ]
  },
  {
   "cell_type": "code",
   "execution_count": null,
   "id": "d976a2a8",
   "metadata": {},
   "outputs": [],
   "source": []
  }
 ],
 "metadata": {
  "kernelspec": {
   "display_name": "base",
   "language": "python",
   "name": "python3"
  },
  "language_info": {
   "codemirror_mode": {
    "name": "ipython",
    "version": 3
   },
   "file_extension": ".py",
   "mimetype": "text/x-python",
   "name": "python",
   "nbconvert_exporter": "python",
   "pygments_lexer": "ipython3",
   "version": "3.11.7"
  }
 },
 "nbformat": 4,
 "nbformat_minor": 5
}
